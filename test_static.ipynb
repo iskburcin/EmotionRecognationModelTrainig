{
 "cells": [
  {
   "cell_type": "code",
   "execution_count": 2,
   "metadata": {},
   "outputs": [
    {
     "name": "stdout",
     "output_type": "stream",
     "text": [
      "Image: happy1.jpg, Predicted Emotion: Angry, Output Data: [[0.11055893 0.04614491 0.84329623]]\n",
      "Image: sad1.jpg, Predicted Emotion: Angry, Output Data: [[0.11045039 0.04642135 0.8431283 ]]\n",
      "Image: angry1.jpg, Predicted Emotion: Angry, Output Data: [[0.11067963 0.04638856 0.8429318 ]]\n"
     ]
    }
   ],
   "source": [
    "import cv2\n",
    "import numpy as np\n",
    "import tensorflow as tf\n",
    "\n",
    "# Load the TFLite model and allocate tensors.\n",
    "interpreter = tf.lite.Interpreter(model_path=\"model.tflite\")\n",
    "interpreter.allocate_tensors()\n",
    "\n",
    "# Get input and output tensors.\n",
    "input_details = interpreter.get_input_details()\n",
    "output_details = interpreter.get_output_details()\n",
    "\n",
    "# Function to preprocess image\n",
    "def preprocess_image(image_path):\n",
    "    img = cv2.imread(image_path, cv2.IMREAD_GRAYSCALE)\n",
    "    resized = cv2.resize(img, (48, 48))\n",
    "    input_data = np.expand_dims(resized, axis=0)\n",
    "    input_data = np.expand_dims(input_data, axis=-1)\n",
    "    input_data = input_data.astype(np.float32) / 255.0\n",
    "    return input_data\n",
    "\n",
    "# List of test images\n",
    "test_images = [\"happy1.jpg\", \"sad1.jpg\", \"angry1.jpg\"]  # Add paths to your test images\n",
    "\n",
    "emotions = ['Happy', 'Sad', 'Angry']\n",
    "\n",
    "for image_path in test_images:\n",
    "    input_data = preprocess_image(image_path)\n",
    "    \n",
    "    # Set the tensor to the input data\n",
    "    interpreter.set_tensor(input_details[0]['index'], input_data)\n",
    "\n",
    "    # Run the model\n",
    "    interpreter.invoke()\n",
    "\n",
    "    # Get the results\n",
    "    output_data = interpreter.get_tensor(output_details[0]['index'])\n",
    "    emotion_index = np.argmax(output_data[0])\n",
    "    emotion = emotions[emotion_index]\n",
    "\n",
    "    print(f\"Image: {image_path}, Predicted Emotion: {emotion}, Output Data: {output_data}\")\n"
   ]
  }
 ],
 "metadata": {
  "kernelspec": {
   "display_name": "Python 3",
   "language": "python",
   "name": "python3"
  },
  "language_info": {
   "codemirror_mode": {
    "name": "ipython",
    "version": 3
   },
   "file_extension": ".py",
   "mimetype": "text/x-python",
   "name": "python",
   "nbconvert_exporter": "python",
   "pygments_lexer": "ipython3",
   "version": "3.12.4"
  }
 },
 "nbformat": 4,
 "nbformat_minor": 2
}
